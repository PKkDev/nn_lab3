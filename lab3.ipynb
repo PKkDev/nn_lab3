{
 "cells": [
  {
   "cell_type": "code",
   "execution_count": 65,
   "metadata": {},
   "outputs": [],
   "source": [
    "import pandas as pd\n",
    "from pandas import DataFrame\n",
    "import matplotlib.pyplot as plt\n",
    "import nltk\n",
    "from nltk.tokenize.treebank import TreebankWordDetokenizer\n",
    "import numpy as np\n",
    "import re\n",
    "import gensim\n",
    "import keras\n",
    "from keras.models import Sequential\n",
    "from keras import layers\n",
    "from keras.optimizers import RMSprop,Adam\n",
    "from keras.preprocessing.text import Tokenizer\n",
    "from keras.utils import pad_sequences\n",
    "from keras import regularizers\n",
    "from keras import backend as K\n",
    "from keras.callbacks import ModelCheckpoint\n",
    "from sklearn.model_selection import train_test_split\n",
    "import tensorflow as tf"
   ]
  },
  {
   "cell_type": "code",
   "execution_count": 2,
   "metadata": {},
   "outputs": [],
   "source": [
    "n = ['id', 'date', 'name', 'text', 'typr', 'rep', 'rtw', 'faw', 'stcount', 'foll', 'frien', 'listcount']\n",
    "data_positive = pd.read_csv('datasets/positive.csv', sep=';', names=n)\n",
    "data_negative = pd.read_csv('datasets/negative.csv', sep=';', names=n)"
   ]
  },
  {
   "cell_type": "code",
   "execution_count": 3,
   "metadata": {},
   "outputs": [
    {
     "name": "stdout",
     "output_type": "stream",
     "text": [
      "25000\n"
     ]
    },
    {
     "data": {
      "text/html": [
       "<div>\n",
       "<style scoped>\n",
       "    .dataframe tbody tr th:only-of-type {\n",
       "        vertical-align: middle;\n",
       "    }\n",
       "\n",
       "    .dataframe tbody tr th {\n",
       "        vertical-align: top;\n",
       "    }\n",
       "\n",
       "    .dataframe thead th {\n",
       "        text-align: right;\n",
       "    }\n",
       "</style>\n",
       "<table border=\"1\" class=\"dataframe\">\n",
       "  <thead>\n",
       "    <tr style=\"text-align: right;\">\n",
       "      <th></th>\n",
       "      <th>id</th>\n",
       "      <th>date</th>\n",
       "      <th>name</th>\n",
       "      <th>text</th>\n",
       "      <th>typr</th>\n",
       "      <th>rep</th>\n",
       "      <th>rtw</th>\n",
       "      <th>faw</th>\n",
       "      <th>stcount</th>\n",
       "      <th>foll</th>\n",
       "      <th>frien</th>\n",
       "      <th>listcount</th>\n",
       "    </tr>\n",
       "  </thead>\n",
       "  <tbody>\n",
       "    <tr>\n",
       "      <th>0</th>\n",
       "      <td>408906762813579264</td>\n",
       "      <td>1386325944</td>\n",
       "      <td>dugarchikbellko</td>\n",
       "      <td>на работе был полный пиддес :| и так каждое за...</td>\n",
       "      <td>-1</td>\n",
       "      <td>0</td>\n",
       "      <td>0</td>\n",
       "      <td>0</td>\n",
       "      <td>8064</td>\n",
       "      <td>111</td>\n",
       "      <td>94</td>\n",
       "      <td>2</td>\n",
       "    </tr>\n",
       "    <tr>\n",
       "      <th>1</th>\n",
       "      <td>408906818262687744</td>\n",
       "      <td>1386325957</td>\n",
       "      <td>nugemycejela</td>\n",
       "      <td>Коллеги сидят рубятся в Urban terror, а я из-з...</td>\n",
       "      <td>-1</td>\n",
       "      <td>0</td>\n",
       "      <td>0</td>\n",
       "      <td>0</td>\n",
       "      <td>26</td>\n",
       "      <td>42</td>\n",
       "      <td>39</td>\n",
       "      <td>0</td>\n",
       "    </tr>\n",
       "    <tr>\n",
       "      <th>2</th>\n",
       "      <td>408906858515398656</td>\n",
       "      <td>1386325966</td>\n",
       "      <td>4post21</td>\n",
       "      <td>@elina_4post как говорят обещаного три года жд...</td>\n",
       "      <td>-1</td>\n",
       "      <td>0</td>\n",
       "      <td>0</td>\n",
       "      <td>0</td>\n",
       "      <td>718</td>\n",
       "      <td>49</td>\n",
       "      <td>249</td>\n",
       "      <td>0</td>\n",
       "    </tr>\n",
       "    <tr>\n",
       "      <th>3</th>\n",
       "      <td>408906914437685248</td>\n",
       "      <td>1386325980</td>\n",
       "      <td>Poliwake</td>\n",
       "      <td>Желаю хорошего полёта и удачной посадки,я буду...</td>\n",
       "      <td>-1</td>\n",
       "      <td>0</td>\n",
       "      <td>0</td>\n",
       "      <td>0</td>\n",
       "      <td>10628</td>\n",
       "      <td>207</td>\n",
       "      <td>200</td>\n",
       "      <td>0</td>\n",
       "    </tr>\n",
       "    <tr>\n",
       "      <th>4</th>\n",
       "      <td>408906914723295232</td>\n",
       "      <td>1386325980</td>\n",
       "      <td>capyvixowe</td>\n",
       "      <td>Обновил за каким-то лешим surf, теперь не рабо...</td>\n",
       "      <td>-1</td>\n",
       "      <td>0</td>\n",
       "      <td>0</td>\n",
       "      <td>0</td>\n",
       "      <td>35</td>\n",
       "      <td>17</td>\n",
       "      <td>34</td>\n",
       "      <td>0</td>\n",
       "    </tr>\n",
       "  </tbody>\n",
       "</table>\n",
       "</div>"
      ],
      "text/plain": [
       "                   id        date             name  \\\n",
       "0  408906762813579264  1386325944  dugarchikbellko   \n",
       "1  408906818262687744  1386325957     nugemycejela   \n",
       "2  408906858515398656  1386325966          4post21   \n",
       "3  408906914437685248  1386325980         Poliwake   \n",
       "4  408906914723295232  1386325980       capyvixowe   \n",
       "\n",
       "                                                text  typr  rep  rtw  faw  \\\n",
       "0  на работе был полный пиддес :| и так каждое за...    -1    0    0    0   \n",
       "1  Коллеги сидят рубятся в Urban terror, а я из-з...    -1    0    0    0   \n",
       "2  @elina_4post как говорят обещаного три года жд...    -1    0    0    0   \n",
       "3  Желаю хорошего полёта и удачной посадки,я буду...    -1    0    0    0   \n",
       "4  Обновил за каким-то лешим surf, теперь не рабо...    -1    0    0    0   \n",
       "\n",
       "   stcount  foll  frien  listcount  \n",
       "0     8064   111     94          2  \n",
       "1       26    42     39          0  \n",
       "2      718    49    249          0  \n",
       "3    10628   207    200          0  \n",
       "4       35    17     34          0  "
      ]
     },
     "execution_count": 3,
     "metadata": {},
     "output_type": "execute_result"
    }
   ],
   "source": [
    "data_negative = data_negative[0:25000]\n",
    "print(data_negative.shape[0])\n",
    "data_negative.head()"
   ]
  },
  {
   "cell_type": "code",
   "execution_count": 4,
   "metadata": {},
   "outputs": [
    {
     "name": "stdout",
     "output_type": "stream",
     "text": [
      "25000\n"
     ]
    },
    {
     "data": {
      "text/html": [
       "<div>\n",
       "<style scoped>\n",
       "    .dataframe tbody tr th:only-of-type {\n",
       "        vertical-align: middle;\n",
       "    }\n",
       "\n",
       "    .dataframe tbody tr th {\n",
       "        vertical-align: top;\n",
       "    }\n",
       "\n",
       "    .dataframe thead th {\n",
       "        text-align: right;\n",
       "    }\n",
       "</style>\n",
       "<table border=\"1\" class=\"dataframe\">\n",
       "  <thead>\n",
       "    <tr style=\"text-align: right;\">\n",
       "      <th></th>\n",
       "      <th>id</th>\n",
       "      <th>date</th>\n",
       "      <th>name</th>\n",
       "      <th>text</th>\n",
       "      <th>typr</th>\n",
       "      <th>rep</th>\n",
       "      <th>rtw</th>\n",
       "      <th>faw</th>\n",
       "      <th>stcount</th>\n",
       "      <th>foll</th>\n",
       "      <th>frien</th>\n",
       "      <th>listcount</th>\n",
       "    </tr>\n",
       "  </thead>\n",
       "  <tbody>\n",
       "    <tr>\n",
       "      <th>0</th>\n",
       "      <td>408906692374446080</td>\n",
       "      <td>1386325927</td>\n",
       "      <td>pleease_shut_up</td>\n",
       "      <td>@first_timee хоть я и школота, но поверь, у на...</td>\n",
       "      <td>1</td>\n",
       "      <td>0</td>\n",
       "      <td>0</td>\n",
       "      <td>0</td>\n",
       "      <td>7569</td>\n",
       "      <td>62</td>\n",
       "      <td>61</td>\n",
       "      <td>0</td>\n",
       "    </tr>\n",
       "    <tr>\n",
       "      <th>1</th>\n",
       "      <td>408906692693221377</td>\n",
       "      <td>1386325927</td>\n",
       "      <td>alinakirpicheva</td>\n",
       "      <td>Да, все-таки он немного похож на него. Но мой ...</td>\n",
       "      <td>1</td>\n",
       "      <td>0</td>\n",
       "      <td>0</td>\n",
       "      <td>0</td>\n",
       "      <td>11825</td>\n",
       "      <td>59</td>\n",
       "      <td>31</td>\n",
       "      <td>2</td>\n",
       "    </tr>\n",
       "    <tr>\n",
       "      <th>2</th>\n",
       "      <td>408906695083954177</td>\n",
       "      <td>1386325927</td>\n",
       "      <td>EvgeshaRe</td>\n",
       "      <td>RT @KatiaCheh: Ну ты идиотка) я испугалась за ...</td>\n",
       "      <td>1</td>\n",
       "      <td>0</td>\n",
       "      <td>1</td>\n",
       "      <td>0</td>\n",
       "      <td>1273</td>\n",
       "      <td>26</td>\n",
       "      <td>27</td>\n",
       "      <td>0</td>\n",
       "    </tr>\n",
       "    <tr>\n",
       "      <th>3</th>\n",
       "      <td>408906695356973056</td>\n",
       "      <td>1386325927</td>\n",
       "      <td>ikonnikova_21</td>\n",
       "      <td>RT @digger2912: \"Кто то в углу сидит и погибае...</td>\n",
       "      <td>1</td>\n",
       "      <td>0</td>\n",
       "      <td>1</td>\n",
       "      <td>0</td>\n",
       "      <td>1549</td>\n",
       "      <td>19</td>\n",
       "      <td>17</td>\n",
       "      <td>0</td>\n",
       "    </tr>\n",
       "    <tr>\n",
       "      <th>4</th>\n",
       "      <td>408906761416867842</td>\n",
       "      <td>1386325943</td>\n",
       "      <td>JumpyAlex</td>\n",
       "      <td>@irina_dyshkant Вот что значит страшилка :D\\nН...</td>\n",
       "      <td>1</td>\n",
       "      <td>0</td>\n",
       "      <td>0</td>\n",
       "      <td>0</td>\n",
       "      <td>597</td>\n",
       "      <td>16</td>\n",
       "      <td>23</td>\n",
       "      <td>1</td>\n",
       "    </tr>\n",
       "  </tbody>\n",
       "</table>\n",
       "</div>"
      ],
      "text/plain": [
       "                   id        date             name  \\\n",
       "0  408906692374446080  1386325927  pleease_shut_up   \n",
       "1  408906692693221377  1386325927  alinakirpicheva   \n",
       "2  408906695083954177  1386325927        EvgeshaRe   \n",
       "3  408906695356973056  1386325927    ikonnikova_21   \n",
       "4  408906761416867842  1386325943        JumpyAlex   \n",
       "\n",
       "                                                text  typr  rep  rtw  faw  \\\n",
       "0  @first_timee хоть я и школота, но поверь, у на...     1    0    0    0   \n",
       "1  Да, все-таки он немного похож на него. Но мой ...     1    0    0    0   \n",
       "2  RT @KatiaCheh: Ну ты идиотка) я испугалась за ...     1    0    1    0   \n",
       "3  RT @digger2912: \"Кто то в углу сидит и погибае...     1    0    1    0   \n",
       "4  @irina_dyshkant Вот что значит страшилка :D\\nН...     1    0    0    0   \n",
       "\n",
       "   stcount  foll  frien  listcount  \n",
       "0     7569    62     61          0  \n",
       "1    11825    59     31          2  \n",
       "2     1273    26     27          0  \n",
       "3     1549    19     17          0  \n",
       "4      597    16     23          1  "
      ]
     },
     "execution_count": 4,
     "metadata": {},
     "output_type": "execute_result"
    }
   ],
   "source": [
    "data_positive = data_positive[0:25000]\n",
    "print(data_positive.shape[0])\n",
    "data_positive.head()"
   ]
  },
  {
   "cell_type": "code",
   "execution_count": 5,
   "metadata": {},
   "outputs": [
    {
     "data": {
      "text/html": [
       "<div>\n",
       "<style scoped>\n",
       "    .dataframe tbody tr th:only-of-type {\n",
       "        vertical-align: middle;\n",
       "    }\n",
       "\n",
       "    .dataframe tbody tr th {\n",
       "        vertical-align: top;\n",
       "    }\n",
       "\n",
       "    .dataframe thead th {\n",
       "        text-align: right;\n",
       "    }\n",
       "</style>\n",
       "<table border=\"1\" class=\"dataframe\">\n",
       "  <thead>\n",
       "    <tr style=\"text-align: right;\">\n",
       "      <th></th>\n",
       "      <th>id</th>\n",
       "      <th>date</th>\n",
       "      <th>name</th>\n",
       "      <th>text</th>\n",
       "      <th>typr</th>\n",
       "      <th>rep</th>\n",
       "      <th>rtw</th>\n",
       "      <th>faw</th>\n",
       "      <th>stcount</th>\n",
       "      <th>foll</th>\n",
       "      <th>frien</th>\n",
       "      <th>listcount</th>\n",
       "    </tr>\n",
       "  </thead>\n",
       "  <tbody>\n",
       "    <tr>\n",
       "      <th>0</th>\n",
       "      <td>408906762813579264</td>\n",
       "      <td>1386325944</td>\n",
       "      <td>dugarchikbellko</td>\n",
       "      <td>на работе был полный пиддес :| и так каждое за...</td>\n",
       "      <td>-1</td>\n",
       "      <td>0</td>\n",
       "      <td>0</td>\n",
       "      <td>0</td>\n",
       "      <td>8064</td>\n",
       "      <td>111</td>\n",
       "      <td>94</td>\n",
       "      <td>2</td>\n",
       "    </tr>\n",
       "    <tr>\n",
       "      <th>1</th>\n",
       "      <td>408906818262687744</td>\n",
       "      <td>1386325957</td>\n",
       "      <td>nugemycejela</td>\n",
       "      <td>Коллеги сидят рубятся в Urban terror, а я из-з...</td>\n",
       "      <td>-1</td>\n",
       "      <td>0</td>\n",
       "      <td>0</td>\n",
       "      <td>0</td>\n",
       "      <td>26</td>\n",
       "      <td>42</td>\n",
       "      <td>39</td>\n",
       "      <td>0</td>\n",
       "    </tr>\n",
       "    <tr>\n",
       "      <th>2</th>\n",
       "      <td>408906858515398656</td>\n",
       "      <td>1386325966</td>\n",
       "      <td>4post21</td>\n",
       "      <td>@elina_4post как говорят обещаного три года жд...</td>\n",
       "      <td>-1</td>\n",
       "      <td>0</td>\n",
       "      <td>0</td>\n",
       "      <td>0</td>\n",
       "      <td>718</td>\n",
       "      <td>49</td>\n",
       "      <td>249</td>\n",
       "      <td>0</td>\n",
       "    </tr>\n",
       "    <tr>\n",
       "      <th>3</th>\n",
       "      <td>408906914437685248</td>\n",
       "      <td>1386325980</td>\n",
       "      <td>Poliwake</td>\n",
       "      <td>Желаю хорошего полёта и удачной посадки,я буду...</td>\n",
       "      <td>-1</td>\n",
       "      <td>0</td>\n",
       "      <td>0</td>\n",
       "      <td>0</td>\n",
       "      <td>10628</td>\n",
       "      <td>207</td>\n",
       "      <td>200</td>\n",
       "      <td>0</td>\n",
       "    </tr>\n",
       "    <tr>\n",
       "      <th>4</th>\n",
       "      <td>408906914723295232</td>\n",
       "      <td>1386325980</td>\n",
       "      <td>capyvixowe</td>\n",
       "      <td>Обновил за каким-то лешим surf, теперь не рабо...</td>\n",
       "      <td>-1</td>\n",
       "      <td>0</td>\n",
       "      <td>0</td>\n",
       "      <td>0</td>\n",
       "      <td>35</td>\n",
       "      <td>17</td>\n",
       "      <td>34</td>\n",
       "      <td>0</td>\n",
       "    </tr>\n",
       "  </tbody>\n",
       "</table>\n",
       "</div>"
      ],
      "text/plain": [
       "                   id        date             name  \\\n",
       "0  408906762813579264  1386325944  dugarchikbellko   \n",
       "1  408906818262687744  1386325957     nugemycejela   \n",
       "2  408906858515398656  1386325966          4post21   \n",
       "3  408906914437685248  1386325980         Poliwake   \n",
       "4  408906914723295232  1386325980       capyvixowe   \n",
       "\n",
       "                                                text  typr  rep  rtw  faw  \\\n",
       "0  на работе был полный пиддес :| и так каждое за...    -1    0    0    0   \n",
       "1  Коллеги сидят рубятся в Urban terror, а я из-з...    -1    0    0    0   \n",
       "2  @elina_4post как говорят обещаного три года жд...    -1    0    0    0   \n",
       "3  Желаю хорошего полёта и удачной посадки,я буду...    -1    0    0    0   \n",
       "4  Обновил за каким-то лешим surf, теперь не рабо...    -1    0    0    0   \n",
       "\n",
       "   stcount  foll  frien  listcount  \n",
       "0     8064   111     94          2  \n",
       "1       26    42     39          0  \n",
       "2      718    49    249          0  \n",
       "3    10628   207    200          0  \n",
       "4       35    17     34          0  "
      ]
     },
     "execution_count": 5,
     "metadata": {},
     "output_type": "execute_result"
    }
   ],
   "source": [
    "data_total = pd.concat([data_negative,data_positive])\n",
    "data_total.head()"
   ]
  },
  {
   "cell_type": "code",
   "execution_count": 6,
   "metadata": {},
   "outputs": [
    {
     "data": {
      "text/plain": [
       "50000"
      ]
     },
     "execution_count": 6,
     "metadata": {},
     "output_type": "execute_result"
    }
   ],
   "source": [
    "# длина датасета\n",
    "len(data_total)"
   ]
  },
  {
   "cell_type": "code",
   "execution_count": 7,
   "metadata": {},
   "outputs": [
    {
     "data": {
      "text/plain": [
       "array([-1,  1], dtype=int64)"
      ]
     },
     "execution_count": 7,
     "metadata": {},
     "output_type": "execute_result"
    }
   ],
   "source": [
    "# есть ли какое-либо другое значение, кроме отрицательного и положительного?\n",
    "data_total['typr'].unique()"
   ]
  },
  {
   "cell_type": "code",
   "execution_count": 8,
   "metadata": {},
   "outputs": [
    {
     "data": {
      "text/html": [
       "<div>\n",
       "<style scoped>\n",
       "    .dataframe tbody tr th:only-of-type {\n",
       "        vertical-align: middle;\n",
       "    }\n",
       "\n",
       "    .dataframe tbody tr th {\n",
       "        vertical-align: top;\n",
       "    }\n",
       "\n",
       "    .dataframe thead th {\n",
       "        text-align: right;\n",
       "    }\n",
       "</style>\n",
       "<table border=\"1\" class=\"dataframe\">\n",
       "  <thead>\n",
       "    <tr style=\"text-align: right;\">\n",
       "      <th></th>\n",
       "      <th>id</th>\n",
       "      <th>date</th>\n",
       "      <th>name</th>\n",
       "      <th>text</th>\n",
       "      <th>rep</th>\n",
       "      <th>rtw</th>\n",
       "      <th>faw</th>\n",
       "      <th>stcount</th>\n",
       "      <th>foll</th>\n",
       "      <th>frien</th>\n",
       "      <th>listcount</th>\n",
       "    </tr>\n",
       "    <tr>\n",
       "      <th>typr</th>\n",
       "      <th></th>\n",
       "      <th></th>\n",
       "      <th></th>\n",
       "      <th></th>\n",
       "      <th></th>\n",
       "      <th></th>\n",
       "      <th></th>\n",
       "      <th></th>\n",
       "      <th></th>\n",
       "      <th></th>\n",
       "      <th></th>\n",
       "    </tr>\n",
       "  </thead>\n",
       "  <tbody>\n",
       "    <tr>\n",
       "      <th>-1</th>\n",
       "      <td>25000</td>\n",
       "      <td>20472</td>\n",
       "      <td>21369</td>\n",
       "      <td>23698</td>\n",
       "      <td>1</td>\n",
       "      <td>115</td>\n",
       "      <td>2</td>\n",
       "      <td>10313</td>\n",
       "      <td>2308</td>\n",
       "      <td>1795</td>\n",
       "      <td>285</td>\n",
       "    </tr>\n",
       "    <tr>\n",
       "      <th>1</th>\n",
       "      <td>25000</td>\n",
       "      <td>10386</td>\n",
       "      <td>21039</td>\n",
       "      <td>24307</td>\n",
       "      <td>1</td>\n",
       "      <td>212</td>\n",
       "      <td>3</td>\n",
       "      <td>10985</td>\n",
       "      <td>2708</td>\n",
       "      <td>2034</td>\n",
       "      <td>280</td>\n",
       "    </tr>\n",
       "  </tbody>\n",
       "</table>\n",
       "</div>"
      ],
      "text/plain": [
       "         id   date   name   text  rep  rtw  faw  stcount  foll  frien  \\\n",
       "typr                                                                    \n",
       "-1    25000  20472  21369  23698    1  115    2    10313  2308   1795   \n",
       " 1    25000  10386  21039  24307    1  212    3    10985  2708   2034   \n",
       "\n",
       "      listcount  \n",
       "typr             \n",
       "-1          285  \n",
       " 1          280  "
      ]
     },
     "execution_count": 8,
     "metadata": {},
     "output_type": "execute_result"
    }
   ],
   "source": [
    "# распределение набора данных\n",
    "data_total.groupby('typr').nunique()"
   ]
  },
  {
   "cell_type": "code",
   "execution_count": 9,
   "metadata": {},
   "outputs": [
    {
     "data": {
      "text/html": [
       "<div>\n",
       "<style scoped>\n",
       "    .dataframe tbody tr th:only-of-type {\n",
       "        vertical-align: middle;\n",
       "    }\n",
       "\n",
       "    .dataframe tbody tr th {\n",
       "        vertical-align: top;\n",
       "    }\n",
       "\n",
       "    .dataframe thead th {\n",
       "        text-align: right;\n",
       "    }\n",
       "</style>\n",
       "<table border=\"1\" class=\"dataframe\">\n",
       "  <thead>\n",
       "    <tr style=\"text-align: right;\">\n",
       "      <th></th>\n",
       "      <th>text</th>\n",
       "      <th>typr</th>\n",
       "    </tr>\n",
       "  </thead>\n",
       "  <tbody>\n",
       "    <tr>\n",
       "      <th>0</th>\n",
       "      <td>на работе был полный пиддес :| и так каждое за...</td>\n",
       "      <td>-1</td>\n",
       "    </tr>\n",
       "    <tr>\n",
       "      <th>1</th>\n",
       "      <td>Коллеги сидят рубятся в Urban terror, а я из-з...</td>\n",
       "      <td>-1</td>\n",
       "    </tr>\n",
       "    <tr>\n",
       "      <th>2</th>\n",
       "      <td>@elina_4post как говорят обещаного три года жд...</td>\n",
       "      <td>-1</td>\n",
       "    </tr>\n",
       "    <tr>\n",
       "      <th>3</th>\n",
       "      <td>Желаю хорошего полёта и удачной посадки,я буду...</td>\n",
       "      <td>-1</td>\n",
       "    </tr>\n",
       "    <tr>\n",
       "      <th>4</th>\n",
       "      <td>Обновил за каким-то лешим surf, теперь не рабо...</td>\n",
       "      <td>-1</td>\n",
       "    </tr>\n",
       "  </tbody>\n",
       "</table>\n",
       "</div>"
      ],
      "text/plain": [
       "                                                text  typr\n",
       "0  на работе был полный пиддес :| и так каждое за...    -1\n",
       "1  Коллеги сидят рубятся в Urban terror, а я из-з...    -1\n",
       "2  @elina_4post как говорят обещаного три года жд...    -1\n",
       "3  Желаю хорошего полёта и удачной посадки,я буду...    -1\n",
       "4  Обновил за каким-то лешим surf, теперь не рабо...    -1"
      ]
     },
     "execution_count": 9,
     "metadata": {},
     "output_type": "execute_result"
    }
   ],
   "source": [
    "# оставляем только те столбцы, которые будут использоваться\n",
    "data_total = data_total[['text','typr']]\n",
    "data_total.head()"
   ]
  },
  {
   "cell_type": "code",
   "execution_count": 10,
   "metadata": {},
   "outputs": [
    {
     "data": {
      "text/plain": [
       "0"
      ]
     },
     "execution_count": 10,
     "metadata": {},
     "output_type": "execute_result"
    }
   ],
   "source": [
    "# есть ли нулевое значение?\n",
    "data_total[\"text\"].isnull().sum()"
   ]
  },
  {
   "cell_type": "code",
   "execution_count": 11,
   "metadata": {},
   "outputs": [],
   "source": [
    "# заполняем нулевые значения\n",
    "data_total[\"text\"].fillna(\"пусто\", inplace = True)"
   ]
  },
  {
   "cell_type": "code",
   "execution_count": 12,
   "metadata": {},
   "outputs": [],
   "source": [
    "# очистки текста\n",
    "def depure_data(data):\n",
    "    # удаляем URL\n",
    "    url_pattern = re.compile(r'https?://\\S+|www\\.\\S+')\n",
    "    data = url_pattern.sub(r'', data)\n",
    "    # удаляем Email\n",
    "    data = re.sub('\\S*@\\S*\\s?', '', data)\n",
    "    # удалем симолы новой строки\n",
    "    data = re.sub('\\s+', ' ', data)\n",
    "    # удаляем одинарные ковычки\n",
    "    data = re.sub(\"\\'\", \"\", data)\n",
    "\n",
    "    # приведение к нижнему регистру + замена «ё» на «е»\n",
    "    # data = data.lower().replace(\"ё\", \"е\")\n",
    "\n",
    "    # замена ссылок на токен «URL»\n",
    "    # data = re.sub('((www\\.[^\\s]+)|(https?://[^\\s]+))', 'URL', data)\n",
    "\n",
    "    # замена упоминания пользователя на токен «USER»\n",
    "    # data = re.sub('@[^\\s]+', 'USER', data)\n",
    "\n",
    "    # удаление знаков пунктуации\n",
    "    # data = re.sub('[^a-zA-Zа-яА-Я1-9]+', ' ', data)\n",
    "    # data = re.sub(' +', ' ', data)\n",
    "\n",
    "    return data"
   ]
  },
  {
   "cell_type": "code",
   "execution_count": 13,
   "metadata": {},
   "outputs": [
    {
     "data": {
      "text/plain": [
       "['на работе был полный пиддес :| и так каждое закрытие месяца, я же свихнусь так D:',\n",
       " 'Коллеги сидят рубятся в Urban terror, а я из-за долбанной винды не могу :(',\n",
       " 'как говорят обещаного три года ждут...((',\n",
       " 'Желаю хорошего полёта и удачной посадки,я буду очень сильно скучать( ',\n",
       " 'Обновил за каким-то лешим surf, теперь не работает простоплеер :(']"
      ]
     },
     "execution_count": 13,
     "metadata": {},
     "output_type": "execute_result"
    }
   ],
   "source": [
    "temp = []\n",
    "# разделение pd.Series на список\n",
    "data_to_list = data_total['text'].values.tolist()\n",
    "for i in range(len(data_to_list)):\n",
    "    temp.append(depure_data(data_to_list[i]))\n",
    "list(temp[:5])"
   ]
  },
  {
   "cell_type": "code",
   "execution_count": 14,
   "metadata": {},
   "outputs": [
    {
     "name": "stdout",
     "output_type": "stream",
     "text": [
      "[['на', 'работе', 'был', 'полныи', 'пиддес', 'так', 'каждое', 'закрытие', 'месяца', 'же', 'свихнусь', 'так'], ['коллеги', 'сидят', 'рубятся', 'urban', 'terror', 'из', 'за', 'долбаннои', 'винды', 'не', 'могу'], ['как', 'говорят', 'обещаного', 'три', 'года', 'ждут'], ['желаю', 'хорошего', 'полета', 'удачнои', 'посадки', 'буду', 'очень', 'сильно', 'скучать'], ['обновил', 'за', 'каким', 'то', 'лешим', 'surf', 'теперь', 'не', 'работает', 'простоплеер'], ['котенка', 'вчера', 'носик', 'разбила', 'плакала', 'расстраивалась'], ['зашли', 'то', 'он', 'опять', 'затихарился', 'прямо', 'физически', 'страдаю', 'когда', 'он', 'долго', 'молчит'], ['вообще', 'не', 'болею', 'не', 'выздоравливаю'], ['микрофраза', 'учимся', 'срать', 'кирпичами', 'режиме', 'amp', 'quot', 'нон', 'стоп', 'amp', 'quot'], ['хочу', 'тобои', 'помириться', 'но', 'сука', 'гордая', 'никогда', 'этого', 'не', 'сделаю']]\n"
     ]
    }
   ],
   "source": [
    "# удаляем повторяющиеся слова из набора данных, следуя идее, что самые короткие и длинные обычно бесполезны\n",
    "# преобразование строки в список токенов.\n",
    "# deacc=True удаляет знаки препинания\n",
    "\n",
    "def sent_to_words(sentences):\n",
    "    for sentence in sentences:\n",
    "        yield(gensim.utils.simple_preprocess(str(sentence), deacc=True))\n",
    "\n",
    "data_words = list(sent_to_words(temp))\n",
    "\n",
    "print(data_words[:10])"
   ]
  },
  {
   "cell_type": "code",
   "execution_count": 15,
   "metadata": {},
   "outputs": [
    {
     "data": {
      "text/plain": [
       "50000"
      ]
     },
     "execution_count": 15,
     "metadata": {},
     "output_type": "execute_result"
    }
   ],
   "source": [
    "len(data_words)"
   ]
  },
  {
   "cell_type": "code",
   "execution_count": 16,
   "metadata": {},
   "outputs": [],
   "source": [
    "# функция для детокенизации всех предложений\n",
    "def detokenize(text):\n",
    "    return TreebankWordDetokenizer().detokenize(text)"
   ]
  },
  {
   "cell_type": "code",
   "execution_count": 17,
   "metadata": {},
   "outputs": [
    {
     "name": "stdout",
     "output_type": "stream",
     "text": [
      "['на работе был полныи пиддес так каждое закрытие месяца же свихнусь так', 'коллеги сидят рубятся urban terror из за долбаннои винды не могу', 'как говорят обещаного три года ждут', 'желаю хорошего полета удачнои посадки буду очень сильно скучать', 'обновил за каким то лешим surf теперь не работает простоплеер']\n"
     ]
    }
   ],
   "source": [
    "data = []\n",
    "for i in range(len(data_words)):\n",
    "    data.append(detokenize(data_words[i]))\n",
    "print(data[:5])"
   ]
  },
  {
   "cell_type": "code",
   "execution_count": 18,
   "metadata": {},
   "outputs": [],
   "source": [
    "data = np.array(data)"
   ]
  },
  {
   "cell_type": "code",
   "execution_count": 19,
   "metadata": {},
   "outputs": [],
   "source": [
    "labels = np.array(data_total['typr'])\n",
    "\n",
    "y = []\n",
    "for i in range(len(labels)):\n",
    "    #negative\n",
    "    if labels[i] == -1:\n",
    "        y.append(0)\n",
    "    #positive\n",
    "    if labels[i] == 1:\n",
    "        y.append(1)\n",
    "y = np.array(y)\n",
    "labels = tf.keras.utils.to_categorical(y, 2, dtype=\"float32\")\n"
   ]
  },
  {
   "cell_type": "code",
   "execution_count": 20,
   "metadata": {},
   "outputs": [
    {
     "data": {
      "text/plain": [
       "50000"
      ]
     },
     "execution_count": 20,
     "metadata": {},
     "output_type": "execute_result"
    }
   ],
   "source": [
    "len(labels)"
   ]
  },
  {
   "cell_type": "code",
   "execution_count": 21,
   "metadata": {},
   "outputs": [
    {
     "name": "stdout",
     "output_type": "stream",
     "text": [
      "[[   0    0    0 ...  780   20   10]\n",
      " [   0    0    0 ...   16    1   59]\n",
      " [   0    0    0 ...  306  199 1863]\n",
      " ...\n",
      " [   0    0    0 ...  662 2303 3543]\n",
      " [   0    0    0 ...    4  642   20]\n",
      " [   0    0    0 ...   30  204 1148]]\n"
     ]
    }
   ],
   "source": [
    "# преобразование текстовых данных в двумерные данные с плавающей запятой\n",
    "\n",
    "max_words = 5000\n",
    "max_len = 200\n",
    "\n",
    "tokenizer = Tokenizer(num_words=max_words)\n",
    "tokenizer.fit_on_texts(data)\n",
    "sequences = tokenizer.texts_to_sequences(data)\n",
    "tweets = pad_sequences(sequences, maxlen=max_len)\n",
    "print(tweets)"
   ]
  },
  {
   "cell_type": "code",
   "execution_count": 22,
   "metadata": {},
   "outputs": [
    {
     "name": "stdout",
     "output_type": "stream",
     "text": [
      "[[1. 0.]\n",
      " [1. 0.]\n",
      " [1. 0.]\n",
      " ...\n",
      " [0. 1.]\n",
      " [0. 1.]\n",
      " [0. 1.]]\n"
     ]
    }
   ],
   "source": [
    "print(labels)"
   ]
  },
  {
   "cell_type": "code",
   "execution_count": 23,
   "metadata": {},
   "outputs": [
    {
     "name": "stdout",
     "output_type": "stream",
     "text": [
      "40000 10000 40000 10000\n"
     ]
    }
   ],
   "source": [
    "# разбиение набора данных на обучающую и тестовую выборку в соотношении 4:1\n",
    "\n",
    "#X_train, X_test, y_train, y_test = train_test_split(tweets, labels, random_state=0)\n",
    "X_train, X_test, y_train, y_test = train_test_split(tweets, labels, test_size=0.2, random_state=1)\n",
    "print (len(X_train),len(X_test),len(y_train),len(y_test))"
   ]
  },
  {
   "attachments": {},
   "cell_type": "markdown",
   "metadata": {},
   "source": [
    "## RNN типа: двунаправленная LSTM\n",
    "\n",
    "RNN обрабатывают последовательности, итерируя вдоль элементов последовательности и сохраняя информацию относительно того, что она обрабатывала до сих пор"
   ]
  },
  {
   "cell_type": "code",
   "execution_count": 24,
   "metadata": {},
   "outputs": [
    {
     "name": "stdout",
     "output_type": "stream",
     "text": [
      "WARNING:tensorflow:`period` argument is deprecated. Please use `save_freq` to specify the frequency in number of batches seen.\n",
      "Epoch 1/15\n",
      "1250/1250 [==============================] - ETA: 0s - loss: 0.6192 - accuracy: 0.6481\n",
      "Epoch 1: val_accuracy improved from -inf to 0.70000, saving model to best_model2.hdf5\n",
      "1250/1250 [==============================] - 189s 146ms/step - loss: 0.6192 - accuracy: 0.6481 - val_loss: 0.5682 - val_accuracy: 0.7000\n",
      "Epoch 2/15\n",
      "1250/1250 [==============================] - ETA: 0s - loss: 0.5590 - accuracy: 0.7077\n",
      "Epoch 2: val_accuracy improved from 0.70000 to 0.70520, saving model to best_model2.hdf5\n",
      "1250/1250 [==============================] - 194s 155ms/step - loss: 0.5590 - accuracy: 0.7077 - val_loss: 0.5594 - val_accuracy: 0.7052\n",
      "Epoch 3/15\n",
      "1250/1250 [==============================] - ETA: 0s - loss: 0.5434 - accuracy: 0.7218\n",
      "Epoch 3: val_accuracy improved from 0.70520 to 0.71080, saving model to best_model2.hdf5\n",
      "1250/1250 [==============================] - 159s 127ms/step - loss: 0.5434 - accuracy: 0.7218 - val_loss: 0.5553 - val_accuracy: 0.7108\n",
      "Epoch 4/15\n",
      "1250/1250 [==============================] - ETA: 0s - loss: 0.5355 - accuracy: 0.7287\n",
      "Epoch 4: val_accuracy did not improve from 0.71080\n",
      "1250/1250 [==============================] - 179s 143ms/step - loss: 0.5355 - accuracy: 0.7287 - val_loss: 0.5537 - val_accuracy: 0.7094\n",
      "Epoch 5/15\n",
      "1250/1250 [==============================] - ETA: 0s - loss: 0.5291 - accuracy: 0.7318\n",
      "Epoch 5: val_accuracy did not improve from 0.71080\n",
      "1250/1250 [==============================] - 178s 142ms/step - loss: 0.5291 - accuracy: 0.7318 - val_loss: 0.5520 - val_accuracy: 0.7105\n",
      "Epoch 6/15\n",
      "1250/1250 [==============================] - ETA: 0s - loss: 0.5239 - accuracy: 0.7365\n",
      "Epoch 6: val_accuracy improved from 0.71080 to 0.71220, saving model to best_model2.hdf5\n",
      "1250/1250 [==============================] - 135s 108ms/step - loss: 0.5239 - accuracy: 0.7365 - val_loss: 0.5531 - val_accuracy: 0.7122\n",
      "Epoch 7/15\n",
      "1250/1250 [==============================] - ETA: 0s - loss: 0.5191 - accuracy: 0.7398\n",
      "Epoch 7: val_accuracy improved from 0.71220 to 0.71340, saving model to best_model2.hdf5\n",
      "1250/1250 [==============================] - 156s 125ms/step - loss: 0.5191 - accuracy: 0.7398 - val_loss: 0.5506 - val_accuracy: 0.7134\n",
      "Epoch 8/15\n",
      "1250/1250 [==============================] - ETA: 0s - loss: 0.5156 - accuracy: 0.7409\n",
      "Epoch 8: val_accuracy improved from 0.71340 to 0.71410, saving model to best_model2.hdf5\n",
      "1250/1250 [==============================] - 169s 135ms/step - loss: 0.5156 - accuracy: 0.7409 - val_loss: 0.5514 - val_accuracy: 0.7141\n",
      "Epoch 9/15\n",
      "1250/1250 [==============================] - ETA: 0s - loss: 0.5126 - accuracy: 0.7452\n",
      "Epoch 9: val_accuracy improved from 0.71410 to 0.71620, saving model to best_model2.hdf5\n",
      "1250/1250 [==============================] - 163s 130ms/step - loss: 0.5126 - accuracy: 0.7452 - val_loss: 0.5496 - val_accuracy: 0.7162\n",
      "Epoch 10/15\n",
      "1250/1250 [==============================] - ETA: 0s - loss: 0.5085 - accuracy: 0.7465\n",
      "Epoch 10: val_accuracy did not improve from 0.71620\n",
      "1250/1250 [==============================] - 161s 129ms/step - loss: 0.5085 - accuracy: 0.7465 - val_loss: 0.5481 - val_accuracy: 0.7162\n",
      "Epoch 11/15\n",
      "1250/1250 [==============================] - ETA: 0s - loss: 0.5064 - accuracy: 0.7481\n",
      "Epoch 11: val_accuracy improved from 0.71620 to 0.71630, saving model to best_model2.hdf5\n",
      "1250/1250 [==============================] - 161s 129ms/step - loss: 0.5064 - accuracy: 0.7481 - val_loss: 0.5474 - val_accuracy: 0.7163\n",
      "Epoch 12/15\n",
      "1250/1250 [==============================] - ETA: 0s - loss: 0.5031 - accuracy: 0.7492\n",
      "Epoch 12: val_accuracy improved from 0.71630 to 0.71700, saving model to best_model2.hdf5\n",
      "1250/1250 [==============================] - 164s 131ms/step - loss: 0.5031 - accuracy: 0.7492 - val_loss: 0.5534 - val_accuracy: 0.7170\n",
      "Epoch 13/15\n",
      "1250/1250 [==============================] - ETA: 0s - loss: 0.5001 - accuracy: 0.7532\n",
      "Epoch 13: val_accuracy improved from 0.71700 to 0.71730, saving model to best_model2.hdf5\n",
      "1250/1250 [==============================] - 162s 129ms/step - loss: 0.5001 - accuracy: 0.7532 - val_loss: 0.5577 - val_accuracy: 0.7173\n",
      "Epoch 14/15\n",
      "1250/1250 [==============================] - ETA: 0s - loss: 0.4968 - accuracy: 0.7560\n",
      "Epoch 14: val_accuracy did not improve from 0.71730\n",
      "1250/1250 [==============================] - 175s 140ms/step - loss: 0.4968 - accuracy: 0.7560 - val_loss: 0.5493 - val_accuracy: 0.7158\n",
      "Epoch 15/15\n",
      "1250/1250 [==============================] - ETA: 0s - loss: 0.4940 - accuracy: 0.7575\n",
      "Epoch 15: val_accuracy did not improve from 0.71730\n",
      "1250/1250 [==============================] - 165s 132ms/step - loss: 0.4940 - accuracy: 0.7575 - val_loss: 0.5520 - val_accuracy: 0.7167\n"
     ]
    }
   ],
   "source": [
    "# Bidirectional LTSM model\n",
    "\n",
    "# Embedding - слой встраивания\n",
    "# слой встраивания — это словарь, который связывает целочисленные индексы с плотными векторами, он возвращает 3D-тензор формы с плавающей запятой\n",
    "# количество возможных токенов - max_words\n",
    "# размерность встраиваний- 40\n",
    "\n",
    "# двунаправленный слой\n",
    "# максимизирует чувствительность порядка RNN: по сути, он состоит из двух RNN (LSTM или GRU), которые обрабатывают входную последовательность в одном другом направлении, чтобы окончательно объединить представления\n",
    "# другими словами, один из слоев интерпретирует последовательности в хронологическом порядке, а второй — в антихронологическом порядке\n",
    "\n",
    "# LSTM\n",
    "# 20 - количество скрытых единиц внутри слоя = размерность выходного пространства\n",
    "# Dropout - наиболее эффективный и наиболее часто используемый метод регуляризации для сетей и состоит из случайного отключения скрытых единиц во время обучения\n",
    "\n",
    "# Dense\n",
    "# 2 - выхода\n",
    "# softmax в качестве функции активации в конечном слое\n",
    "\n",
    "# RMSprop / Adam - оптимизатор = это просто механизм, который постоянно вычисляет градиент потерь и определяет, как двигаться против функции потерь, чтобы найти ее глобальные минимумы и, следовательно, найти лучшие параметры сети (ядро модели и веса ее смещения)\n",
    "# categorical_crossentropy - функция потерь\n",
    "\n",
    "modelBR = Sequential()\n",
    "modelBR.add(layers.Embedding(max_words, 40, input_length=max_len))\n",
    "modelBR.add(layers.Bidirectional(layers.LSTM(20, dropout=0.6)))\n",
    "modelBR.add(layers.Dense(2, activation='softmax'))\n",
    "modelBR.compile(optimizer='rmsprop', loss='categorical_crossentropy', metrics=['accuracy'])\n",
    "\n",
    "checkpoint2 = ModelCheckpoint(\"best_model2.hdf5\", monitor='val_accuracy', \n",
    "verbose=1, save_best_only=True, mode='auto', period=1, save_weights_only=False)\n",
    "history = modelBR.fit(X_train, y_train, epochs=15, validation_data=(X_test, y_test), callbacks=[checkpoint2])"
   ]
  },
  {
   "cell_type": "code",
   "execution_count": 29,
   "metadata": {},
   "outputs": [
    {
     "data": {
      "image/png": "[encoded data removed]",
      "text/plain": [
       "<Figure size 640x480 with 1 Axes>"
      ]
     },
     "metadata": {},
     "output_type": "display_data"
    }
   ],
   "source": [
    "# график точности при обучении и валидации модели\n",
    "plt.plot(history.history['accuracy'])\n",
    "plt.plot(history.history['val_accuracy'])\n",
    "plt.title('Model accuracy')\n",
    "plt.ylabel('Accuracy')\n",
    "plt.xlabel('Epoch')\n",
    "plt.legend(['Train', 'Test'], loc='upper left')\n",
    "\n",
    "plt.show()"
   ]
  },
  {
   "cell_type": "code",
   "execution_count": 27,
   "metadata": {},
   "outputs": [
    {
     "data": {
      "image/png": "[encoded data removed]",
      "text/plain": [
       "<Figure size 640x480 with 1 Axes>"
      ]
     },
     "metadata": {},
     "output_type": "display_data"
    }
   ],
   "source": [
    "# график потерь при обучении и валидации модели\n",
    "plt.plot(history.history['loss'])\n",
    "plt.plot(history.history['val_loss'])\n",
    "plt.title('Model loss')\n",
    "plt.ylabel('Loss')\n",
    "plt.xlabel('Epoch')\n",
    "plt.legend(['Train', 'Test'], loc='upper left')\n",
    "\n",
    "plt.show()"
   ]
  },
  {
   "cell_type": "code",
   "execution_count": 140,
   "metadata": {},
   "outputs": [],
   "source": [
    "# Single LSTM layer model\n",
    "# одна модель LSTM (долговременная кратковременная память)\n",
    "\n",
    "# modelSR = Sequential()\n",
    "# modelSR.add(layers.Embedding(max_words, 20))\n",
    "# modelSR.add(layers.LSTM(15, dropout=0.5))\n",
    "# modelSR.add(layers.Dense(2, activation='softmax'))\n",
    "\n",
    "\n",
    "# modelSR.compile(optimizer='rmsprop',loss='categorical_crossentropy', metrics=['accuracy'])\n",
    "\n",
    "# checkpoint1 = ModelCheckpoint(\"best_model1.hdf5\", monitor='val_accuracy', verbose=1, save_best_only=True, mode='auto', period=1, save_weights_only=False)\n",
    "# history = modelSR.fit(X_train, y_train, epochs=10, validation_data=(X_test, y_test),callbacks=[checkpoint1])"
   ]
  },
  {
   "cell_type": "code",
   "execution_count": 32,
   "metadata": {},
   "outputs": [],
   "source": [
    "# best_model = keras.models.load_model(\"best_model2.hdf5\")\n",
    "best_model = modelBR"
   ]
  },
  {
   "cell_type": "code",
   "execution_count": 33,
   "metadata": {},
   "outputs": [
    {
     "name": "stdout",
     "output_type": "stream",
     "text": [
      "313/313 - 11s - loss: 0.5520 - accuracy: 0.7167 - 11s/epoch - 35ms/step\n",
      "Model accuracy:  0.71670001745224\n"
     ]
    }
   ],
   "source": [
    "test_loss, test_acc = best_model.evaluate(X_test, y_test, verbose=2)\n",
    "print('Model accuracy: ',test_acc)"
   ]
  },
  {
   "cell_type": "code",
   "execution_count": 34,
   "metadata": {},
   "outputs": [],
   "source": [
    "def NetWork(text):\n",
    "    sentiment = ['Негативный','Позитивный']\n",
    "    sequence = tokenizer.texts_to_sequences([text])\n",
    "    test = pad_sequences(sequence, maxlen=max_len)\n",
    "    predict = best_model.predict(test)\n",
    "    print(\"Вероятность того, что отзыв позитивный:  {:.2f}%\".format(predict[0][1] * 100))\n",
    "    print(\"Вероятность того, что отзыв негативный:  {:.2f}%\".format(predict[0][0] * 100))\n",
    "    print(sentiment[np.around(predict, decimals=0).argmax(axis=1)[0]])"
   ]
  },
  {
   "cell_type": "code",
   "execution_count": 87,
   "metadata": {},
   "outputs": [],
   "source": [
    "def addRowToDF(newRow, df) -> DataFrame:\n",
    "    df = pd.concat([newRow, df.loc[:]]).reset_index(drop=True)\n",
    "    return df"
   ]
  },
  {
   "cell_type": "code",
   "execution_count": 138,
   "metadata": {},
   "outputs": [],
   "source": [
    "df2 = pd.DataFrame(columns=['text', 'perc_positive', 'perc_negative', 'predicted', 'expected', 'match'])\n",
    "df2 = addRowToDF(pd.DataFrame({'text':'я так рад за тебя', 'expected':'Позитивный'}, index=[0]), df2)\n",
    "df2 = addRowToDF(pd.DataFrame({'text':'какой ужасный день', 'expected':'Негативный'}, index=[0]), df2)\n",
    "df2 = addRowToDF(pd.DataFrame({'text':'какой прекрасный день', 'expected':'Позитивный'}, index=[0]), df2)\n",
    "df2 = addRowToDF(pd.DataFrame({'text':'ты сегодня очень плохо выглядешь', 'expected':'Негативный'}, index=[0]), df2)\n",
    "df2 = addRowToDF(pd.DataFrame({'text':'платье, которое ты надела, выглядет плохо', 'expected':'Негативный'}, index=[0]), df2)\n",
    "df2 = addRowToDF(pd.DataFrame({'text':'от тебя очень плохо пахнет', 'expected':'Негативный'}, index=[0]), df2)\n",
    "df2 = addRowToDF(pd.DataFrame({'text':'я думаю, нам пора расстаться', 'expected':'Негативный'}, index=[0]), df2)\n",
    "df2 = addRowToDF(pd.DataFrame({'text':'сегодня какой-то нехороший день у меня', 'expected':'Негативный'}, index=[0]), df2)\n",
    "df2 = addRowToDF(pd.DataFrame({'text':'Как понизить температуру ноута?', 'expected':'Негативный'}, index=[0]), df2)\n",
    "df2 = addRowToDF(pd.DataFrame({'text':'сегодня будет зачет по нейронным сетям', 'expected':'Негативный'}, index=[0]), df2)\n",
    "df2 = addRowToDF(pd.DataFrame({'text':'моя нейронная сеть не обучается', 'expected':'Негативный'}, index=[0]), df2)\n",
    "df2 = addRowToDF(pd.DataFrame({'text':'моя нейронная сеть успешно обучится', 'expected':'Позитивный'}, index=[0]), df2)\n",
    "\n",
    "for index, row in data_negative.loc[24995:25000].iterrows():\n",
    "    df2 = addRowToDF(pd.DataFrame({'text':row['text'], 'expected':'Негативный'}, index=[0]), df2)\n",
    "\n",
    "for index, row in data_positive.loc[24995:25000].iterrows():\n",
    "    df2 = addRowToDF(pd.DataFrame({'text':row['text'], 'expected':'Позитивный'}, index=[0]), df2)"
   ]
  },
  {
   "cell_type": "code",
   "execution_count": 139,
   "metadata": {},
   "outputs": [
    {
     "name": "stdout",
     "output_type": "stream",
     "text": [
      "1/1 [==============================] - 0s 67ms/step\n",
      "1/1 [==============================] - 0s 62ms/step\n",
      "1/1 [==============================] - 0s 47ms/step\n",
      "1/1 [==============================] - 0s 53ms/step\n",
      "1/1 [==============================] - 0s 68ms/step\n",
      "1/1 [==============================] - 0s 65ms/step\n",
      "1/1 [==============================] - 0s 53ms/step\n",
      "1/1 [==============================] - 0s 57ms/step\n",
      "1/1 [==============================] - 0s 50ms/step\n",
      "1/1 [==============================] - 0s 65ms/step\n",
      "1/1 [==============================] - 0s 53ms/step\n",
      "1/1 [==============================] - 0s 50ms/step\n",
      "1/1 [==============================] - 0s 52ms/step\n",
      "1/1 [==============================] - 0s 60ms/step\n",
      "1/1 [==============================] - 0s 54ms/step\n",
      "1/1 [==============================] - 0s 77ms/step\n",
      "1/1 [==============================] - 0s 64ms/step\n",
      "1/1 [==============================] - 0s 55ms/step\n",
      "1/1 [==============================] - 0s 47ms/step\n",
      "1/1 [==============================] - 0s 69ms/step\n",
      "1/1 [==============================] - 0s 70ms/step\n",
      "1/1 [==============================] - 0s 60ms/step\n"
     ]
    }
   ],
   "source": [
    "for index, row in df2.iterrows():\n",
    "    sentiment = ['Негативный','Позитивный']\n",
    "    sequence = tokenizer.texts_to_sequences([row['text']])\n",
    "    test = pad_sequences(sequence, maxlen=max_len)\n",
    "    predict = best_model.predict(test)\n",
    "    row['perc_positive'] = \"{:.2f}%\".format(predict[0][1] * 100)\n",
    "    row['perc_negative'] = \"{:.2f}%\".format(predict[0][0] * 100)\n",
    "    row['predicted'] = sentiment[np.around(predict, decimals=0).argmax(axis=1)[0]]\n",
    "    match = A = 'yes' if row['predicted'] == row['expected'] else 'no'\n",
    "    row['match'] = match"
   ]
  },
  {
   "cell_type": "code",
   "execution_count": 137,
   "metadata": {},
   "outputs": [
    {
     "data": {
      "text/html": [
       "<div>\n",
       "<style scoped>\n",
       "    .dataframe tbody tr th:only-of-type {\n",
       "        vertical-align: middle;\n",
       "    }\n",
       "\n",
       "    .dataframe tbody tr th {\n",
       "        vertical-align: top;\n",
       "    }\n",
       "\n",
       "    .dataframe thead th {\n",
       "        text-align: right;\n",
       "    }\n",
       "</style>\n",
       "<table border=\"1\" class=\"dataframe\">\n",
       "  <thead>\n",
       "    <tr style=\"text-align: right;\">\n",
       "      <th></th>\n",
       "      <th>text</th>\n",
       "      <th>expected</th>\n",
       "      <th>perc_positive</th>\n",
       "      <th>perc_negative</th>\n",
       "      <th>predicted</th>\n",
       "      <th>match</th>\n",
       "    </tr>\n",
       "  </thead>\n",
       "  <tbody>\n",
       "    <tr>\n",
       "      <th>0</th>\n",
       "      <td>RT @hakacymipo: Ну вот он, первый пост в жабби...</td>\n",
       "      <td>Позитивный</td>\n",
       "      <td>60.62%</td>\n",
       "      <td>39.38%</td>\n",
       "      <td>Позитивный</td>\n",
       "      <td>yes</td>\n",
       "    </tr>\n",
       "    <tr>\n",
       "      <th>1</th>\n",
       "      <td>@sky_violett взяла поцеловала;-) Потом пощечин...</td>\n",
       "      <td>Позитивный</td>\n",
       "      <td>92.47%</td>\n",
       "      <td>7.53%</td>\n",
       "      <td>Позитивный</td>\n",
       "      <td>yes</td>\n",
       "    </tr>\n",
       "    <tr>\n",
       "      <th>2</th>\n",
       "      <td>Добро-недоброе утро :) А где-то происходит зак...</td>\n",
       "      <td>Позитивный</td>\n",
       "      <td>54.39%</td>\n",
       "      <td>45.61%</td>\n",
       "      <td>Позитивный</td>\n",
       "      <td>yes</td>\n",
       "    </tr>\n",
       "    <tr>\n",
       "      <th>3</th>\n",
       "      <td>@alimansarov в общем, что-то ненужное явно ока...</td>\n",
       "      <td>Позитивный</td>\n",
       "      <td>54.25%</td>\n",
       "      <td>45.75%</td>\n",
       "      <td>Позитивный</td>\n",
       "      <td>yes</td>\n",
       "    </tr>\n",
       "    <tr>\n",
       "      <th>4</th>\n",
       "      <td>@SFGO76 @marina_saniram Добрейшего и совестлив...</td>\n",
       "      <td>Позитивный</td>\n",
       "      <td>58.60%</td>\n",
       "      <td>41.40%</td>\n",
       "      <td>Позитивный</td>\n",
       "      <td>yes</td>\n",
       "    </tr>\n",
       "    <tr>\n",
       "      <th>5</th>\n",
       "      <td>Ездили в триумф и в хэппимол - купили только о...</td>\n",
       "      <td>Негативный</td>\n",
       "      <td>4.82%</td>\n",
       "      <td>95.18%</td>\n",
       "      <td>Негативный</td>\n",
       "      <td>yes</td>\n",
       "    </tr>\n",
       "    <tr>\n",
       "      <th>6</th>\n",
       "      <td>RT @AlexMaslo13: @gbeautifulbitch прости(\\nя с...</td>\n",
       "      <td>Негативный</td>\n",
       "      <td>9.02%</td>\n",
       "      <td>90.98%</td>\n",
       "      <td>Негативный</td>\n",
       "      <td>yes</td>\n",
       "    </tr>\n",
       "    <tr>\n",
       "      <th>7</th>\n",
       "      <td>Завтра понедельник...( и хрен ты опять выспишься(</td>\n",
       "      <td>Негативный</td>\n",
       "      <td>5.44%</td>\n",
       "      <td>94.56%</td>\n",
       "      <td>Негативный</td>\n",
       "      <td>yes</td>\n",
       "    </tr>\n",
       "    <tr>\n",
       "      <th>8</th>\n",
       "      <td>RT @tzykina: омг\\nмалыш, тоскливо ковыряя лопа...</td>\n",
       "      <td>Негативный</td>\n",
       "      <td>8.48%</td>\n",
       "      <td>91.52%</td>\n",
       "      <td>Негативный</td>\n",
       "      <td>yes</td>\n",
       "    </tr>\n",
       "    <tr>\n",
       "      <th>9</th>\n",
       "      <td>...а теперь возвращаюсь снова к работе...(( ht...</td>\n",
       "      <td>Негативный</td>\n",
       "      <td>18.46%</td>\n",
       "      <td>81.54%</td>\n",
       "      <td>Негативный</td>\n",
       "      <td>yes</td>\n",
       "    </tr>\n",
       "    <tr>\n",
       "      <th>10</th>\n",
       "      <td>моя нейронная сеть успешно обучится</td>\n",
       "      <td>Позитивный</td>\n",
       "      <td>60.37%</td>\n",
       "      <td>39.63%</td>\n",
       "      <td>Позитивный</td>\n",
       "      <td>yes</td>\n",
       "    </tr>\n",
       "    <tr>\n",
       "      <th>11</th>\n",
       "      <td>моя нейронная сеть не обучается</td>\n",
       "      <td>Негативный</td>\n",
       "      <td>28.01%</td>\n",
       "      <td>71.99%</td>\n",
       "      <td>Негативный</td>\n",
       "      <td>yes</td>\n",
       "    </tr>\n",
       "    <tr>\n",
       "      <th>12</th>\n",
       "      <td>сегодня будет зачет по нейронным сетям</td>\n",
       "      <td>Негативный</td>\n",
       "      <td>20.19%</td>\n",
       "      <td>79.81%</td>\n",
       "      <td>Негативный</td>\n",
       "      <td>yes</td>\n",
       "    </tr>\n",
       "    <tr>\n",
       "      <th>13</th>\n",
       "      <td>Как понизить температуру ноута?</td>\n",
       "      <td>Негативный</td>\n",
       "      <td>31.48%</td>\n",
       "      <td>68.52%</td>\n",
       "      <td>Негативный</td>\n",
       "      <td>yes</td>\n",
       "    </tr>\n",
       "    <tr>\n",
       "      <th>14</th>\n",
       "      <td>сегодня какой-то нехороший день у меня</td>\n",
       "      <td>Негативный</td>\n",
       "      <td>21.58%</td>\n",
       "      <td>78.42%</td>\n",
       "      <td>Негативный</td>\n",
       "      <td>yes</td>\n",
       "    </tr>\n",
       "    <tr>\n",
       "      <th>15</th>\n",
       "      <td>я думаю, нам пора расстаться</td>\n",
       "      <td>Негативный</td>\n",
       "      <td>89.05%</td>\n",
       "      <td>10.95%</td>\n",
       "      <td>Позитивный</td>\n",
       "      <td>no</td>\n",
       "    </tr>\n",
       "    <tr>\n",
       "      <th>16</th>\n",
       "      <td>от тебя очень плохо пахнет</td>\n",
       "      <td>Негативный</td>\n",
       "      <td>17.83%</td>\n",
       "      <td>82.17%</td>\n",
       "      <td>Негативный</td>\n",
       "      <td>yes</td>\n",
       "    </tr>\n",
       "    <tr>\n",
       "      <th>17</th>\n",
       "      <td>платье, которое ты надела, выглядет плохо</td>\n",
       "      <td>Негативный</td>\n",
       "      <td>48.09%</td>\n",
       "      <td>51.91%</td>\n",
       "      <td>Негативный</td>\n",
       "      <td>yes</td>\n",
       "    </tr>\n",
       "    <tr>\n",
       "      <th>18</th>\n",
       "      <td>ты сегодня очень плохо выглядешь</td>\n",
       "      <td>Негативный</td>\n",
       "      <td>9.71%</td>\n",
       "      <td>90.29%</td>\n",
       "      <td>Негативный</td>\n",
       "      <td>yes</td>\n",
       "    </tr>\n",
       "    <tr>\n",
       "      <th>19</th>\n",
       "      <td>какой прекрасный день</td>\n",
       "      <td>Позитивный</td>\n",
       "      <td>50.01%</td>\n",
       "      <td>49.99%</td>\n",
       "      <td>Позитивный</td>\n",
       "      <td>yes</td>\n",
       "    </tr>\n",
       "    <tr>\n",
       "      <th>20</th>\n",
       "      <td>какой ужасный день</td>\n",
       "      <td>Негативный</td>\n",
       "      <td>50.01%</td>\n",
       "      <td>49.99%</td>\n",
       "      <td>Позитивный</td>\n",
       "      <td>no</td>\n",
       "    </tr>\n",
       "    <tr>\n",
       "      <th>21</th>\n",
       "      <td>я так рад за тебя</td>\n",
       "      <td>Позитивный</td>\n",
       "      <td>85.77%</td>\n",
       "      <td>14.23%</td>\n",
       "      <td>Позитивный</td>\n",
       "      <td>yes</td>\n",
       "    </tr>\n",
       "  </tbody>\n",
       "</table>\n",
       "</div>"
      ],
      "text/plain": [
       "                                                 text    expected  \\\n",
       "0   RT @hakacymipo: Ну вот он, первый пост в жабби...  Позитивный   \n",
       "1   @sky_violett взяла поцеловала;-) Потом пощечин...  Позитивный   \n",
       "2   Добро-недоброе утро :) А где-то происходит зак...  Позитивный   \n",
       "3   @alimansarov в общем, что-то ненужное явно ока...  Позитивный   \n",
       "4   @SFGO76 @marina_saniram Добрейшего и совестлив...  Позитивный   \n",
       "5   Ездили в триумф и в хэппимол - купили только о...  Негативный   \n",
       "6   RT @AlexMaslo13: @gbeautifulbitch прости(\\nя с...  Негативный   \n",
       "7   Завтра понедельник...( и хрен ты опять выспишься(  Негативный   \n",
       "8   RT @tzykina: омг\\nмалыш, тоскливо ковыряя лопа...  Негативный   \n",
       "9   ...а теперь возвращаюсь снова к работе...(( ht...  Негативный   \n",
       "10                моя нейронная сеть успешно обучится  Позитивный   \n",
       "11                    моя нейронная сеть не обучается  Негативный   \n",
       "12             сегодня будет зачет по нейронным сетям  Негативный   \n",
       "13                    Как понизить температуру ноута?  Негативный   \n",
       "14             сегодня какой-то нехороший день у меня  Негативный   \n",
       "15                       я думаю, нам пора расстаться  Негативный   \n",
       "16                         от тебя очень плохо пахнет  Негативный   \n",
       "17          платье, которое ты надела, выглядет плохо  Негативный   \n",
       "18                   ты сегодня очень плохо выглядешь  Негативный   \n",
       "19                              какой прекрасный день  Позитивный   \n",
       "20                                 какой ужасный день  Негативный   \n",
       "21                                  я так рад за тебя  Позитивный   \n",
       "\n",
       "   perc_positive perc_negative   predicted match  \n",
       "0         60.62%        39.38%  Позитивный   yes  \n",
       "1         92.47%         7.53%  Позитивный   yes  \n",
       "2         54.39%        45.61%  Позитивный   yes  \n",
       "3         54.25%        45.75%  Позитивный   yes  \n",
       "4         58.60%        41.40%  Позитивный   yes  \n",
       "5          4.82%        95.18%  Негативный   yes  \n",
       "6          9.02%        90.98%  Негативный   yes  \n",
       "7          5.44%        94.56%  Негативный   yes  \n",
       "8          8.48%        91.52%  Негативный   yes  \n",
       "9         18.46%        81.54%  Негативный   yes  \n",
       "10        60.37%        39.63%  Позитивный   yes  \n",
       "11        28.01%        71.99%  Негативный   yes  \n",
       "12        20.19%        79.81%  Негативный   yes  \n",
       "13        31.48%        68.52%  Негативный   yes  \n",
       "14        21.58%        78.42%  Негативный   yes  \n",
       "15        89.05%        10.95%  Позитивный    no  \n",
       "16        17.83%        82.17%  Негативный   yes  \n",
       "17        48.09%        51.91%  Негативный   yes  \n",
       "18         9.71%        90.29%  Негативный   yes  \n",
       "19        50.01%        49.99%  Позитивный   yes  \n",
       "20        50.01%        49.99%  Позитивный    no  \n",
       "21        85.77%        14.23%  Позитивный   yes  "
      ]
     },
     "execution_count": 137,
     "metadata": {},
     "output_type": "execute_result"
    }
   ],
   "source": [
    "df2"
   ]
  },
  {
   "cell_type": "code",
   "execution_count": 60,
   "metadata": {},
   "outputs": [
    {
     "name": "stdout",
     "output_type": "stream",
     "text": [
      "1/1 [==============================] - 0s 42ms/step\n",
      "Вероятность того, что отзыв позитивный:  39.91%\n",
      "Вероятность того, что отзыв негативный:  60.09%\n",
      "Негативный\n"
     ]
    }
   ],
   "source": [
    "NetWork('сегодня ясный день')"
   ]
  }
 ],
 "metadata": {
  "kernelspec": {
   "display_name": "Python 3",
   "language": "python",
   "name": "python3"
  },
  "language_info": {
   "codemirror_mode": {
    "name": "ipython",
    "version": 3
   },
   "file_extension": ".py",
   "mimetype": "text/x-python",
   "name": "python",
   "nbconvert_exporter": "python",
   "pygments_lexer": "ipython3",
   "version": "3.10.8"
  },
  "orig_nbformat": 4,
  "vscode": {
   "interpreter": {
    "hash": "ec75d557deca9f20d03db8a48ebd94b29e6dfb77dd22de65a769af0dc4a8caa4"
   }
  }
 },
 "nbformat": 4,
 "nbformat_minor": 2
}
